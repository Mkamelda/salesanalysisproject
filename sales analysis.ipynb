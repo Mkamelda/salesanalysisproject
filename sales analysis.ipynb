{
 "cells": [
  {
   "cell_type": "code",
   "execution_count": null,
   "id": "63f15810-0f57-446b-b47e-e227fce2c812",
   "metadata": {},
   "outputs": [],
   "source": [
    "# Import libraries\n",
    "import pandas as pd\n",
    "import matplotlib.pyplot as plt\n",
    "import seaborn as sns\n",
    "\n",
    "# Setting up visual theme\n",
    "sns.set(style=\"whitegrid\")\n"
   ]
  },
  {
   "cell_type": "code",
   "execution_count": null,
   "id": "ce946e82-545f-4752-a28e-45f4d2b6a549",
   "metadata": {},
   "outputs": [],
   "source": [
    "# Create sample data\n",
    "data = pd.DataFrame({\n",
    "    \"Month\": [\"Jan\", \"Feb\", \"Mar\", \"Apr\", \"May\", \"Jun\", \"Jul\", \"Aug\", \"Sep\", \"Oct\", \"Nov\", \"Dec\"],\n",
    "    \"Product_A\": [1500, 1600, 1700, 1400, 1300, 1800, 2000, 2100, 1900, 2200, 2300, 2400],\n",
    "    \"Product_B\": [800, 900, 950, 1100, 1200, 1150, 1300, 1250, 1400, 1350, 1450, 1500],\n",
    "    \"Product_C\": [500, 550, 600, 580, 590, 610, 620, 640, 630, 660, 670, 690]\n",
    "})\n",
    "# Display the dataset\n",
    "data\n"
   ]
  },
  {
   "cell_type": "code",
   "execution_count": null,
   "id": "5f7bfee0-1eab-4c36-a56d-ae75439dad5d",
   "metadata": {},
   "outputs": [],
   "source": [
    "# Display first few rows\n",
    "print(\"First few rows of the dataset:\")\n",
    "display(data.head())\n",
    "\n",
    "# Summary statistics\n",
    "print(\"Summary statistics:\")\n",
    "display(data.describe())\n"
   ]
  },
  {
   "cell_type": "code",
   "execution_count": null,
   "id": "01c8d1b0-cdce-4305-bb0d-99da44d7bb35",
   "metadata": {},
   "outputs": [],
   "source": [
    "# Line plot for monthly sales trends\n",
    "plt.figure(figsize=(12, 6))\n",
    "plt.plot(data[\"Month\"], data[\"Product_A\"], marker=\"o\", label=\"Product A\", color=\"b\")\n",
    "plt.plot(data[\"Month\"], data[\"Product_B\"], marker=\"o\", label=\"Product B\", color=\"g\")\n",
    "plt.plot(data[\"Month\"], data[\"Product_C\"], marker=\"o\", label=\"Product C\", color=\"r\")\n",
    "\n",
    "plt.title(\"Monthly Sales Trend by Product\")\n",
    "plt.xlabel(\"Month\")\n",
    "plt.ylabel(\"Sales\")\n",
    "plt.legend()\n",
    "plt.grid(True)\n",
    "plt.show()\n"
   ]
  },
  {
   "cell_type": "code",
   "execution_count": null,
   "id": "e4e21808-2a3c-4826-a3a8-921cbd66e2be",
   "metadata": {},
   "outputs": [],
   "source": [
    "# Calculate total yearly sales for each product\n",
    "total_sales = data[[\"Product_A\", \"Product_B\", \"Product_C\"]].sum()\n",
    "\n",
    "# Bar plot for total sales\n",
    "plt.figure(figsize=(8, 5))\n",
    "total_sales.plot(kind=\"bar\", color=[\"#1f77b4\", \"#ff7f0e\", \"#2ca02c\"])\n",
    "\n",
    "plt.title(\"Total Sales by Product\")\n",
    "plt.xlabel(\"Product\")\n",
    "plt.ylabel(\"Total Sales\")\n",
    "plt.xticks(rotation=0)\n",
    "plt.show()\n"
   ]
  },
  {
   "cell_type": "code",
   "execution_count": null,
   "id": "703900cc-e39b-4ac9-9bf1-5ccc9b1ae863",
   "metadata": {},
   "outputs": [],
   "source": [
    "Insights\n",
    "Product A had strong performance, particularly in the last quarter of the year.\n",
    "Product B showed consistent growth throughout the year but at a more moderate level.\n",
    "Product C had the lowest sales among the three but displayed steady growth."
   ]
  }
 ],
 "metadata": {
  "kernelspec": {
   "display_name": "Python 3 (ipykernel)",
   "language": "python",
   "name": "python3"
  },
  "language_info": {
   "codemirror_mode": {
    "name": "ipython",
    "version": 3
   },
   "file_extension": ".py",
   "mimetype": "text/x-python",
   "name": "python",
   "nbconvert_exporter": "python",
   "pygments_lexer": "ipython3",
   "version": "3.13.0"
  }
 },
 "nbformat": 4,
 "nbformat_minor": 5
}
